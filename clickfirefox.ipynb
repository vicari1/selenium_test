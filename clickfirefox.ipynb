{
 "cells": [
  {
   "cell_type": "code",
   "execution_count": 7,
   "metadata": {},
   "outputs": [],
   "source": [
    "from selenium import webdriver\n",
    "from selenium.webdriver.common.by import By\n",
    "from selenium.webdriver.firefox.options import Options"
   ]
  },
  {
   "cell_type": "code",
   "execution_count": 8,
   "metadata": {},
   "outputs": [
    {
     "name": "stderr",
     "output_type": "stream",
     "text": [
      "C:\\Users\\bagat\\AppData\\Local\\Temp\\ipykernel_15092\\935367923.py:2: DeprecationWarning: headless property is deprecated, instead use add_argument('-headless')\n",
      "  options.headless = False\n"
     ]
    }
   ],
   "source": [
    "options = Options()\n",
    "options.headless = False\n",
    "\n",
    "navegador = webdriver.Firefox(options=options)\n",
    "link = \"https://www.google.com.br/\"\n",
    "\n",
    "navegador.get(url=link)\n",
    "\n"
   ]
  }
 ],
 "metadata": {
  "kernelspec": {
   "display_name": "base",
   "language": "python",
   "name": "python3"
  },
  "language_info": {
   "codemirror_mode": {
    "name": "ipython",
    "version": 3
   },
   "file_extension": ".py",
   "mimetype": "text/x-python",
   "name": "python",
   "nbconvert_exporter": "python",
   "pygments_lexer": "ipython3",
   "version": "3.10.9"
  },
  "orig_nbformat": 4
 },
 "nbformat": 4,
 "nbformat_minor": 2
}
