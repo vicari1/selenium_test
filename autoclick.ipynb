{
 "cells": [
  {
   "cell_type": "code",
   "execution_count": 1,
   "metadata": {},
   "outputs": [],
   "source": [
    "#Libery imports\n",
    "from selenium import webdriver\n",
    "from webdriver_manager.chrome import ChromeDriverManager\n",
    "from selenium.webdriver.chrome.service import Service\n",
    "from selenium.webdriver.common.keys import Keys\n",
    "from selenium.webdriver.common.by import By\n",
    "import time\n",
    "\n",
    "#Create a service to work with a updated version of Chrome\n",
    "servico = Service(ChromeDriverManager().install())\n",
    "\n",
    "#Define Chrome as a main brownser\n",
    "navegador = webdriver.Chrome(service=servico)"
   ]
  },
  {
   "cell_type": "code",
   "execution_count": 2,
   "metadata": {},
   "outputs": [],
   "source": [
    "#Open site 01\n",
    "navegador.get(\"https://www.google.com.br/\")\n"
   ]
  },
  {
   "cell_type": "code",
   "execution_count": 3,
   "metadata": {},
   "outputs": [],
   "source": [
    "#Click on search bar and write my name\n",
    "campo_pesquisa = navegador.find_element(By.XPATH, '//*[@id=\"APjFqb\"]')\n",
    "campo_pesquisa.send_keys(\"Guilherme Vicari\")\n",
    "\n",
    "#Press ENTER to search results on web\n",
    "campo_pesquisa.send_keys(Keys.ENTER)\n",
    "\n",
    "#time to service go on\n",
    "time.sleep(3)"
   ]
  },
  {
   "cell_type": "code",
   "execution_count": 4,
   "metadata": {},
   "outputs": [],
   "source": [
    "#Open site 2\n",
    "navegador.execute_script(\"window.open('https://www.tecmundo.com.br/', '_blank');\")\n"
   ]
  }
 ],
 "metadata": {
  "kernelspec": {
   "display_name": "base",
   "language": "python",
   "name": "python3"
  },
  "language_info": {
   "codemirror_mode": {
    "name": "ipython",
    "version": 3
   },
   "file_extension": ".py",
   "mimetype": "text/x-python",
   "name": "python",
   "nbconvert_exporter": "python",
   "pygments_lexer": "ipython3",
   "version": "3.10.9"
  },
  "orig_nbformat": 4
 },
 "nbformat": 4,
 "nbformat_minor": 2
}
